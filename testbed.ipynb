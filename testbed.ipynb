{
 "cells": [
  {
   "cell_type": "code",
   "execution_count": 1,
   "source": [
    "from bs4 import BeautifulSoup as bs\n",
    "from selenium import webdriver\n",
    "import getpass"
   ],
   "outputs": [],
   "metadata": {}
  },
  {
   "cell_type": "code",
   "execution_count": 2,
   "source": [
    "op = webdriver.FirefoxOptions()\n",
    "op.add_argument('--headless')\n",
    "driver = webdriver.Firefox(executable_path=r\"/home/zachlim/Documents/geckodriver\", options=op)\n",
    "driver.get(\"https://www.barchart.com/options/iv-rank-percentile/etfs?orderBy=optionsImpliedVolatilityPercentile1y&orderDir=desc\")\n",
    "\n",
    "source_page = driver.page_source\n",
    "\n",
    "ticker_name = driver.find_element_by_xpath(\"/html/body/main/div/div[2]/div[2]/div/div[2]/div/div/div/div[6]/div/div[2]/div/div/ng-transclude/table\")"
   ],
   "outputs": [],
   "metadata": {}
  },
  {
   "cell_type": "code",
   "execution_count": 2,
   "source": [
    "class Renderer:\n",
    "    from rich.console import Console\n",
    "    from rich.table import Table\n",
    "\n",
    "    def __init__(self):\n",
    "        self.console = Console()\n",
    "    \n",
    "    def last_color(self, text):\n",
    "        if float(text) < 30:\n",
    "            return f\"[bright_green]{str(text)}[/]\"\n",
    "        elif float(text) > 30 and float(text) < 50:\n",
    "            return f\"[orange1]{str(text)}[/]\"\n",
    "        else:\n",
    "            return f\"[bright_red]{str(text)}[/]\"\n",
    "\n",
    "    def screener_table(self, data, table_type=\"ETF\"):\n",
    "        table = Table(title=f\"Screened {table_type}\")\n",
    "        col_name = [\"Ticker\", \"Last\", \"Volume\", \"IV Rank\", \"IV Perc\"]\n",
    "\n",
    "        for i in range(0,5):\n",
    "            table.add_column(col_name[i])\n",
    "\n",
    "        for i in range(0,11):\n",
    "            table.add_row(data[i][0], self.last_color(data[i][1]),data[i][2],data[i][3],data[i][4])\n",
    "\n",
    "        self.console.print(table)"
   ],
   "outputs": [],
   "metadata": {}
  },
  {
   "cell_type": "code",
   "execution_count": 6,
   "source": [
    "import uuid\n",
    "import datetime\n",
    "\n",
    "class Trade:\n",
    "\n",
    "    def __init__(self, open_date: str, ticker: str, strike_price : float, trade_price: float, exp_date: str, roll_count = 0) -> None:\n",
    "        self.open_date = datetime.datetime.strptime(open_date, \"%d %b %Y\")\n",
    "        self.ticker = ticker\n",
    "        self.strike_price = strike_price\n",
    "        self.trade_price = trade_price\n",
    "        self.exp_date = datetime.datetime.strptime(exp_date, \"%d %b %Y\")\n",
    "        self.roll_count = roll_count\n",
    "        self.pnl = 0\n",
    "        self.dte = (datetime.datetime.now() - self.exp_date).days\n",
    "        self.breakeven = self.strike_price - self.trade_price\n",
    "\n",
    "    def __str__(self) -> str:\n",
    "        return str([self.open_date.strftime(\"%d %b %Y\"), str(self.ticker), float(self.strike_price), float(self.trade_price),\n",
    "        self.exp_date.strftime(\"%d %b %Y\"), int(self.roll_count)])\n",
    "\n",
    "    def roll_trade(self, roll_price : float, exp_date: str, strike_price = None) -> None:\n",
    "        if strike_price is None:\n",
    "            self.strike_price = self.strike_price\n",
    "        else:\n",
    "            self.strike_price = strike_price\n",
    "        self.roll_count += 1\n",
    "        self.trade_price += roll_price\n",
    "        self.exp_date = datetime.datetime.strptime(exp_date, \"%d %b %Y\")\n",
    "\n",
    "    def close_trade(self, close_price: float) -> float:\n",
    "        self.roll_count += 1 \n",
    "        self.pnl = (self.trade_price - close_price)*100 - 0.70*(self.roll_count*2)\n",
    "\n",
    "        return self.pnl\n",
    "\n",
    "class Account:\n",
    "\n",
    "    def __init__(self, deposits: float, curr_value: float, open_trades: dict) -> None:\n",
    "        self.base = deposits\n",
    "        self.value = curr_value\n",
    "        self.open_trades = open_trades\n",
    "        pass\n",
    "\n",
    "    def add_value(self, top_up):\n",
    "        self.base += top_up\n",
    "\n",
    "    def new_trade(self, open_date: str, ticker: str, strike_price : float, trade_price: float, exp_date: str) -> None:\n",
    "        new_trade = Trade(open_date, ticker, strike_price, trade_price, exp_date) \n",
    "        self.open_trades[ticker + \" \" + str(open_date)] = new_trade\n",
    "\n",
    "    def roll_trade(self, trade_name: str, roll_price: float, exp_date: str, strike_price = None) -> None:\n",
    "        trade = self.open_trades.get(trade_name)\n",
    "        trade.roll_trade(roll_price, exp_date, strike_price)\n",
    "        pass\n",
    "\n",
    "    def close_trade(self, trade_name, close_price: float) -> None:\n",
    "        trade = self.open_trades.get(trade_name)\n",
    "        pnl = trade.close_trade(close_price)\n",
    "        self.value += pnl\n",
    "        del self.open_trades[trade_name]\n",
    "\n",
    "    def render_table(self):\n",
    "\n",
    "        open_date = [self.open_trades[key].open_date.strftime(\"%d %b %Y\") for key in self.open_trades]\n",
    "        ticker_name = [str(self.open_trades[key].ticker) for key in self.open_trades]\n",
    "        trd_price = [str(self.open_trades[key].trade_price) for key in self.open_trades] \n",
    "        stock_be = [str(self.open_trades[key].breakeven) for key in self.open_trades]\n",
    "        dte = [str(abs(self.open_trades[key].dte)) for key in self.open_trades]\n",
    "\n",
    "        return list(zip(open_date, ticker_name, trd_price, stock_be, dte))\n",
    "\n",
    "    def get_trade_attr(self, trade_name: str) -> list:\n",
    "        return self.open_trades.get(trade_name).ticker\n",
    "\n",
    "    @staticmethod\n",
    "    def save_acc(account, filename):\n",
    "\n",
    "        data = {}\n",
    "        data[\"trades\"] = account.open_trades\n",
    "        data[\"balances\"] = {'base_val' : account.base, \"curr_val\" : account.value}\n",
    "\n",
    "        with open(filename+\".pickle\", 'wb') as handle:\n",
    "            pickle.dump(data, handle, protocol=pickle.HIGHEST_PROTOCOL)\n",
    "\n",
    "    @staticmethod\n",
    "    def load_acc(filename):\n",
    "        with open(filename, \"rb\") as handle:\n",
    "            data = pickle.load(handle)\n",
    "\n",
    "        trades = data[\"trades\"]\n",
    "        bal = data[\"balances\"]\n",
    "\n",
    "        account = Account(bal[\"base_val\"], bal[\"curr_val\"], trades)\n",
    "\n",
    "        return account"
   ],
   "outputs": [],
   "metadata": {}
  },
  {
   "cell_type": "code",
   "execution_count": 7,
   "source": [
    "zach_account = Account(1000, 1000, {})\n",
    "\n",
    "zach_account.new_trade(\"7 Sep 2021\", \"AAPL\", 100, 0.50, \"25 Oct 2021\")\n",
    "zach_account.new_trade(\"11 Oct 2021\", \"F\", 23, 0.40, \"25 Oct 2021\")"
   ],
   "outputs": [],
   "metadata": {}
  },
  {
   "cell_type": "code",
   "execution_count": 8,
   "source": [
    "import pickle\n",
    "\n",
    "Account.save_acc(zach_account, \"saved\")"
   ],
   "outputs": [],
   "metadata": {}
  },
  {
   "cell_type": "code",
   "execution_count": 10,
   "source": [
    "new_account = Account.load_acc(\"saved.pickle\")\n",
    "\n",
    "for key in new_account.open_trades:\n",
    "    print(new_account.open_trades[key])"
   ],
   "outputs": [
    {
     "output_type": "stream",
     "name": "stdout",
     "text": [
      "['07 Sep 2021', 'AAPL', 100.0, 0.5, '25 Oct 2021', 0]\n",
      "['11 Oct 2021', 'F', 23.0, 0.4, '25 Oct 2021', 0]\n"
     ]
    }
   ],
   "metadata": {}
  },
  {
   "cell_type": "code",
   "execution_count": 39,
   "source": [
    "import easygui as g \n",
    "\n",
    "class Prompts():\n",
    "\n",
    "    def __init__(self) -> None:\n",
    "        pass\n",
    "\n",
    "    @staticmethod\n",
    "    def on_load() -> Account:\n",
    "        if g.buttonbox(msg=\"Do you have an account?\", choices=[\"Yes\", \"No\"]) == \"Yes\":\n",
    "            account = Account.load_acc(g.fileopenbox(msg=\"Please select your account file\"))\n",
    "\n",
    "        else:\n",
    "            account_info = g.multenterbox(msg=\"Please fill in the basic information for your account\",\n",
    "            fields=[\"Deposit Amount\", \"Current Value\"])\n",
    "            if account_info is None:\n",
    "                return Prompts.on_load()\n",
    "            else:\n",
    "                account = Account(account_info[0], account_info[1], {})\n",
    "\n",
    "        return account\n",
    "\n",
    "    @staticmethod\n",
    "    def open_trade(account) -> None:\n",
    "        fieldValues = g.multenterbox(msg=\"Enter trade information\", title=\"Trade Information\", \n",
    "        fields=[\"Open Date\", \"Ticker\", \"Strike\", \"Trade Price\", \"Expiration Date\"])\n",
    "\n",
    "        account.new_trade(fieldValues[0], fieldValues[1], float(fieldValues[2]), float(fieldValues[3]), fieldValues[4])\n",
    "\n",
    "    @staticmethod\n",
    "    def edit_trade(account) -> None:\n",
    "        trdname = g.choicebox(\"Pick an item\", \"ITEM PICKER\", choices=list(account.open_trades.keys()))\n",
    "\n",
    "        if trdname not in account.open_trades:\n",
    "            g.msgbox(msg=\"Trade not found. Please try again.\")\n",
    "        else:\n",
    "            choiceValues = g.buttonbox(msg=\"Close or Roll Trade?\", choices=[\"Close\", \"Roll\"])\n",
    "            if choiceValues == \"Roll\":\n",
    "                fieldValues = g.multenterbox(msg=\"Enter updated trade information\", title=\"Trade Editor\",\n",
    "                fields=[\"Roll Price\", \"Expiration Date\", \"Strike (Optional)\"], values=[0,0,\"\"])\n",
    "                if (fieldValues is None):\n",
    "                    pass\n",
    "                else:\n",
    "                    account.roll_trade(trdname, float(fieldValues[0]), str(fieldValues[1]), \n",
    "                    float(fieldValues[2]) if fieldValues[2] != \"\" else fieldValues[2])\n",
    "            elif choiceValues == \"Close\":\n",
    "                fieldValues = g.multenterbox(msg=\"Enter closing trade information\", title=\"Closing Trade\",\n",
    "                fields=[\"Close Price\"], values=[0])\n",
    "                if (fieldValues is None):\n",
    "                    pass\n",
    "                else:\n",
    "                    account.close_trade(trdname, float(fieldValues[0]))"
   ],
   "outputs": [],
   "metadata": {}
  },
  {
   "cell_type": "code",
   "execution_count": 40,
   "source": [
    "Prompts.edit_trade(zach_account)"
   ],
   "outputs": [
    {
     "output_type": "error",
     "ename": "AttributeError",
     "evalue": "'Account' object has no attribute 'uuid_ref'",
     "traceback": [
      "\u001b[0;31m---------------------------------------------------------------------------\u001b[0m",
      "\u001b[0;31mAttributeError\u001b[0m                            Traceback (most recent call last)",
      "\u001b[0;32m/tmp/ipykernel_3052/2118989351.py\u001b[0m in \u001b[0;36m<module>\u001b[0;34m\u001b[0m\n\u001b[0;32m----> 1\u001b[0;31m \u001b[0mPrompts\u001b[0m\u001b[0;34m.\u001b[0m\u001b[0medit_trade\u001b[0m\u001b[0;34m(\u001b[0m\u001b[0mzach_account\u001b[0m\u001b[0;34m)\u001b[0m\u001b[0;34m\u001b[0m\u001b[0;34m\u001b[0m\u001b[0m\n\u001b[0m",
      "\u001b[0;32m/tmp/ipykernel_3052/2322291523.py\u001b[0m in \u001b[0;36medit_trade\u001b[0;34m(account)\u001b[0m\n\u001b[1;32m     50\u001b[0m                     \u001b[0;32mpass\u001b[0m\u001b[0;34m\u001b[0m\u001b[0;34m\u001b[0m\u001b[0m\n\u001b[1;32m     51\u001b[0m                 \u001b[0;32melse\u001b[0m\u001b[0;34m:\u001b[0m\u001b[0;34m\u001b[0m\u001b[0;34m\u001b[0m\u001b[0m\n\u001b[0;32m---> 52\u001b[0;31m                     \u001b[0maccount\u001b[0m\u001b[0;34m.\u001b[0m\u001b[0mclose_trade\u001b[0m\u001b[0;34m(\u001b[0m\u001b[0mtrdname\u001b[0m\u001b[0;34m,\u001b[0m \u001b[0mfloat\u001b[0m\u001b[0;34m(\u001b[0m\u001b[0mfieldValues\u001b[0m\u001b[0;34m[\u001b[0m\u001b[0;36m0\u001b[0m\u001b[0;34m]\u001b[0m\u001b[0;34m)\u001b[0m\u001b[0;34m)\u001b[0m\u001b[0;34m\u001b[0m\u001b[0;34m\u001b[0m\u001b[0m\n\u001b[0m",
      "\u001b[0;32m/tmp/ipykernel_3052/1129523638.py\u001b[0m in \u001b[0;36mclose_trade\u001b[0;34m(self, trade_name, close_price)\u001b[0m\n\u001b[1;32m     55\u001b[0m \u001b[0;34m\u001b[0m\u001b[0m\n\u001b[1;32m     56\u001b[0m     \u001b[0;32mdef\u001b[0m \u001b[0mclose_trade\u001b[0m\u001b[0;34m(\u001b[0m\u001b[0mself\u001b[0m\u001b[0;34m,\u001b[0m \u001b[0mtrade_name\u001b[0m\u001b[0;34m,\u001b[0m \u001b[0mclose_price\u001b[0m\u001b[0;34m:\u001b[0m \u001b[0mfloat\u001b[0m\u001b[0;34m)\u001b[0m \u001b[0;34m->\u001b[0m \u001b[0;32mNone\u001b[0m\u001b[0;34m:\u001b[0m\u001b[0;34m\u001b[0m\u001b[0;34m\u001b[0m\u001b[0m\n\u001b[0;32m---> 57\u001b[0;31m         \u001b[0mtrade\u001b[0m \u001b[0;34m=\u001b[0m \u001b[0mself\u001b[0m\u001b[0;34m.\u001b[0m\u001b[0mopen_trades\u001b[0m\u001b[0;34m.\u001b[0m\u001b[0mget\u001b[0m\u001b[0;34m(\u001b[0m\u001b[0mself\u001b[0m\u001b[0;34m.\u001b[0m\u001b[0muuid_ref\u001b[0m\u001b[0;34m[\u001b[0m\u001b[0mtrade_name\u001b[0m\u001b[0;34m]\u001b[0m\u001b[0;34m)\u001b[0m\u001b[0;34m\u001b[0m\u001b[0;34m\u001b[0m\u001b[0m\n\u001b[0m\u001b[1;32m     58\u001b[0m         \u001b[0mpnl\u001b[0m \u001b[0;34m=\u001b[0m \u001b[0mtrade\u001b[0m\u001b[0;34m.\u001b[0m\u001b[0mclose_trade\u001b[0m\u001b[0;34m(\u001b[0m\u001b[0mclose_price\u001b[0m\u001b[0;34m)\u001b[0m\u001b[0;34m\u001b[0m\u001b[0;34m\u001b[0m\u001b[0m\n\u001b[1;32m     59\u001b[0m         \u001b[0mself\u001b[0m\u001b[0;34m.\u001b[0m\u001b[0mvalue\u001b[0m \u001b[0;34m+=\u001b[0m \u001b[0mpnl\u001b[0m\u001b[0;34m\u001b[0m\u001b[0;34m\u001b[0m\u001b[0m\n",
      "\u001b[0;31mAttributeError\u001b[0m: 'Account' object has no attribute 'uuid_ref'"
     ]
    }
   ],
   "metadata": {}
  },
  {
   "cell_type": "code",
   "execution_count": 16,
   "source": [
    "import easygui as g \n",
    "\n",
    "g.choicebox(\"Pick an item\", \"ITEM PICKER\", choices=list(zach_account.open_trades.keys()))"
   ],
   "outputs": [
    {
     "output_type": "execute_result",
     "data": {
      "text/plain": [
       "'F 11 Oct 2021'"
      ]
     },
     "metadata": {},
     "execution_count": 16
    }
   ],
   "metadata": {}
  },
  {
   "cell_type": "code",
   "execution_count": null,
   "source": [],
   "outputs": [],
   "metadata": {}
  }
 ],
 "metadata": {
  "orig_nbformat": 4,
  "language_info": {
   "name": "python",
   "version": "3.9.7",
   "mimetype": "text/x-python",
   "codemirror_mode": {
    "name": "ipython",
    "version": 3
   },
   "pygments_lexer": "ipython3",
   "nbconvert_exporter": "python",
   "file_extension": ".py"
  },
  "kernelspec": {
   "name": "python3",
   "display_name": "Python 3.9.7 64-bit ('terminak': conda)"
  },
  "interpreter": {
   "hash": "d19282962f812839135f84991d7b18776f87da86044ca1c35a193a6f3533e779"
  }
 },
 "nbformat": 4,
 "nbformat_minor": 2
}