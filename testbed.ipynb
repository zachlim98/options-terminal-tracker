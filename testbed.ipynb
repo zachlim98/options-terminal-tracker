{
 "cells": [
  {
   "cell_type": "code",
   "execution_count": null,
   "source": [
    "from bs4 import BeautifulSoup as bs\n",
    "from selenium import webdriver\n",
    "import getpass\n",
    "\n",
    "from rich.progress import track"
   ],
   "outputs": [],
   "metadata": {}
  },
  {
   "cell_type": "code",
   "execution_count": null,
   "source": [
    "class Scraper:\n",
    "\n",
    "    def __init__(self, driver_path=rf\"/home/{getpass.getuser()}/Documents/\", driver_type=\"Firefox\"):\n",
    "        if driver_type==\"Firefox\":\n",
    "            self.webdriver = driver_path + \"geckodriver\"\n",
    "            op = webdriver.FirefoxOptions()\n",
    "            op.add_argument('--headless')\n",
    "            self.driver = webdriver.Firefox(executable_path=self.webdriver, options=op)\n",
    "        elif driver_type==\"Chrome\":\n",
    "            self.webdriver = driver_path + \"chromedriver\"\n",
    "            op = webdriver.ChromeOptions()\n",
    "            op.add_argument('--headless')\n",
    "            self.driver = webdriver.Chrome(executable_path=self.webdriver, options=op)\n",
    "        \n",
    "    def etf_scrape(self):\n",
    "        self.driver.get(\"https://www.barchart.com/options/iv-rank-percentile/etfs?orderBy=optionsImpliedVolatilityPercentile1y&orderDir=desc\")\n",
    "\n",
    "        ticker_name = [self.driver.find_element_by_xpath(f\"/html/body/main/div/div[2]/div[2]/div/div[2]/div/div/div/div[6]/div/div[2]/div/div/ng-transclude/table/tbody/tr[{i}]/td[1]/div/span[2]/a\").text for i in track(range(1,101), description=\"Downloading Ticker Name...\")]\n",
    "        ticker_last = [self.driver.find_element_by_xpath(f\"/html/body/main/div/div[2]/div[2]/div/div[2]/div/div/div/div[6]/div/div[2]/div/div/ng-transclude/table/tbody/tr[{i}]/td[3]/div/span/span/span\").text for i in track(range(1,101), description=\"Downloading Last Price...\")]\n",
    "        ticker_optvol = [self.driver.find_element_by_xpath(f\"/html/body/main/div/div[2]/div[2]/div/div[2]/div/div/div/div[6]/div/div[2]/div/div/ng-transclude/table/tbody/tr[{i}]/td[6]/div/span/span/span\").text for i in track(range(1,101), description=\"Downloading Option Vol...\")]\n",
    "        ticker_impr = [self.driver.find_element_by_xpath(f\"/html/body/main/div/div[2]/div[2]/div/div[2]/div/div/div/div[6]/div/div[2]/div/div/ng-transclude/table/tbody/tr[{i}]/td[8]/div/span/span/span\").text for i in track(range(1,101), description=\"Downloading IV Rank...\")]\n",
    "        ticker_impp = [self.driver.find_element_by_xpath(f\"/html/body/main/div/div[2]/div[2]/div/div[2]/div/div/div/div[6]/div/div[2]/div/div/ng-transclude/table/tbody/tr[{i}]/td[9]/div/span/span/span\").text for i in track(range(1,101), description=\"Downloading IV Percentile...\")]\n",
    "\n",
    "        return list(zip(ticker_name, ticker_last, ticker_optvol, ticker_impr, ticker_impp))"
   ],
   "outputs": [],
   "metadata": {}
  },
  {
   "cell_type": "code",
   "execution_count": null,
   "source": [
    "scrap = Scraper()\n",
    "\n",
    "scrap.etf_scrape()"
   ],
   "outputs": [],
   "metadata": {}
  },
  {
   "cell_type": "code",
   "execution_count": null,
   "source": [
    "from rich.console import Console\n",
    "from rich.table import Table\n",
    "\n",
    "class Renderer:\n",
    "    def __init__(self):\n",
    "        self.console = Console()\n",
    "    \n",
    "    def last_color(self, text):\n",
    "        if float(text) < 30:\n",
    "            return f\"[bright_green]{str(text)}[/]\"\n",
    "        elif float(text) > 30 and float(text) < 50:\n",
    "            return f\"[orange1]{str(text)}[/]\"\n",
    "        else:\n",
    "            return f\"[bright_red]{str(text)}[/]\"\n",
    "\n",
    "    def screener_table(self, data, table_type=\"ETF\"):\n",
    "        table = Table(title=f\"Screened {table_type}\")\n",
    "        col_name = [\"Ticker\", \"Last\", \"Volume\", \"IV Rank\", \"IV Perc\"]\n",
    "\n",
    "        for i in range(0,5):\n",
    "            table.add_column(col_name[i])\n",
    "\n",
    "        for i in range(0,11):\n",
    "            table.add_row(data[i][0], self.last_color(data[i][1]),data[i][2],data[i][3],data[i][4])\n",
    "\n",
    "        self.console.print(table)"
   ],
   "outputs": [],
   "metadata": {}
  },
  {
   "cell_type": "code",
   "execution_count": 8,
   "source": [
    "import uuid\n",
    "import datetime\n",
    "\n",
    "class Trade:\n",
    "\n",
    "    def __init__(self, open_date: str, ticker: str, strike_price : float, trade_price: float, exp_date: str, roll_count = 0) -> None:\n",
    "        self.open_date = datetime.datetime.strptime(open_date, \"%d %b %Y\")\n",
    "        self.ticker = ticker\n",
    "        self.strike_price = strike_price\n",
    "        self.trade_price = trade_price\n",
    "        self.exp_date = datetime.datetime.strptime(exp_date, \"%d %b %Y\")\n",
    "        self.roll_count = roll_count\n",
    "        self.pnl = 0\n",
    "        self.dte = (datetime.datetime.now() - self.exp_date).days\n",
    "        self.breakeven = self.strike_price - self.trade_price\n",
    "\n",
    "    def __str__(self) -> str:\n",
    "        return str([self.open_date.strftime(\"%d %b %Y\"), str(self.ticker), float(self.strike_price), float(self.trade_price),\n",
    "        self.exp_date.strftime(\"%d %b %Y\"), int(self.roll_count)])\n",
    "\n",
    "    def roll_trade(self, roll_price : float, exp_date: str, strike_price = None) -> None:\n",
    "        if strike_price is None:\n",
    "            self.strike_price = self.strike_price\n",
    "        else:\n",
    "            self.strike_price = strike_price\n",
    "        self.roll_count += 1\n",
    "        self.trade_price += roll_price\n",
    "        self.exp_date = datetime.datetime.strptime(exp_date, \"%d %b %Y\")\n",
    "\n",
    "    def close_trade(self, close_price: float) -> float:\n",
    "        self.roll_count += 1 \n",
    "        self.pnl = (self.trade_price - close_price)*100 - 0.70*(self.roll_count*2)\n",
    "\n",
    "        return self.pnl\n",
    "\n",
    "class Account:\n",
    "\n",
    "    def __init__(self, deposits: float, curr_value: float, open_trades: dict) -> None:\n",
    "        self.base = deposits\n",
    "        self.value = curr_value\n",
    "        self.open_trades = open_trades\n",
    "        pass\n",
    "\n",
    "    def add_value(self, top_up):\n",
    "        self.base += top_up\n",
    "\n",
    "    def new_trade(self, open_date: str, ticker: str, strike_price : float, trade_price: float, exp_date: str) -> None:\n",
    "        new_trade = Trade(open_date, ticker, strike_price, trade_price, exp_date) \n",
    "        self.open_trades[ticker + \" \" + str(open_date)] = new_trade\n",
    "\n",
    "    def roll_trade(self, trade_name: str, roll_price: float, exp_date: str, strike_price = None) -> None:\n",
    "        trade = self.open_trades.get(trade_name)\n",
    "        trade.roll_trade(roll_price, exp_date, strike_price)\n",
    "        pass\n",
    "\n",
    "    def close_trade(self, trade_name, close_price: float) -> None:\n",
    "        trade = self.open_trades.get(trade_name)\n",
    "        pnl = trade.close_trade(close_price)\n",
    "        self.value += pnl\n",
    "        del self.open_trades[trade_name]\n",
    "\n",
    "    def render_table(self):\n",
    "\n",
    "        open_date = [self.open_trades[key].open_date.strftime(\"%d %b %Y\") for key in self.open_trades]\n",
    "        ticker_name = [str(self.open_trades[key].ticker) for key in self.open_trades]\n",
    "        trd_price = [str(self.open_trades[key].trade_price) for key in self.open_trades] \n",
    "        stock_be = [str(self.open_trades[key].breakeven) for key in self.open_trades]\n",
    "        dte = [str(abs(self.open_trades[key].dte)) for key in self.open_trades]\n",
    "\n",
    "        return list(zip(open_date, ticker_name, trd_price, stock_be, dte))\n",
    "\n",
    "    def get_trade_attr(self, trade_name: str) -> list:\n",
    "        return self.open_trades.get(trade_name).ticker\n",
    "\n",
    "    @staticmethod\n",
    "    def save_acc(account, filename):\n",
    "\n",
    "        data = {}\n",
    "        data[\"trades\"] = account.open_trades\n",
    "        data[\"balances\"] = {'base_val' : account.base, \"curr_val\" : account.value}\n",
    "\n",
    "        with open(filename+\".pickle\", 'wb') as handle:\n",
    "            pickle.dump(data, handle, protocol=pickle.HIGHEST_PROTOCOL)\n",
    "\n",
    "    @staticmethod\n",
    "    def load_acc(filename):\n",
    "        with open(filename, \"rb\") as handle:\n",
    "            data = pickle.load(handle)\n",
    "\n",
    "        trades = data[\"trades\"]\n",
    "        bal = data[\"balances\"]\n",
    "\n",
    "        account = Account(bal[\"base_val\"], bal[\"curr_val\"], trades)\n",
    "\n",
    "        return account"
   ],
   "outputs": [],
   "metadata": {}
  },
  {
   "cell_type": "code",
   "execution_count": 9,
   "source": [
    "zach_account = Account(1000, 1000, {})\n",
    "\n",
    "zach_account.new_trade(\"7 Sep 2021\", \"AAPL\", 100, 0.50, \"25 Oct 2021\")\n",
    "zach_account.new_trade(\"11 Oct 2021\", \"F\", 23, 0.40, \"25 Oct 2021\")"
   ],
   "outputs": [],
   "metadata": {}
  },
  {
   "cell_type": "code",
   "execution_count": 17,
   "source": [
    "zach_account.base = 1500"
   ],
   "outputs": [],
   "metadata": {}
  },
  {
   "cell_type": "code",
   "execution_count": null,
   "source": [
    "import easygui as g \n",
    "\n",
    "class Prompts():\n",
    "\n",
    "    def __init__(self) -> None:\n",
    "        pass\n",
    "\n",
    "    @staticmethod\n",
    "    def on_load() -> Account:\n",
    "        if g.buttonbox(msg=\"Do you have an account?\", choices=[\"Yes\", \"No\"]) == \"Yes\":\n",
    "            account = Account.load_acc(g.fileopenbox(msg=\"Please select your account file\"))\n",
    "\n",
    "        else:\n",
    "            account_info = g.multenterbox(msg=\"Please fill in the basic information for your account\",\n",
    "            fields=[\"Deposit Amount\", \"Current Value\"])\n",
    "            if account_info is None:\n",
    "                return Prompts.on_load()\n",
    "            else:\n",
    "                account = Account(account_info[0], account_info[1], {})\n",
    "\n",
    "        return account\n",
    "\n",
    "    @staticmethod\n",
    "    def open_trade(account) -> None:\n",
    "        fieldValues = g.multenterbox(msg=\"Enter trade information\", title=\"Trade Information\", \n",
    "        fields=[\"Open Date\", \"Ticker\", \"Strike\", \"Trade Price\", \"Expiration Date\"])\n",
    "\n",
    "        account.new_trade(fieldValues[0], fieldValues[1], float(fieldValues[2]), float(fieldValues[3]), fieldValues[4])\n",
    "\n",
    "    @staticmethod\n",
    "    def edit_trade(account) -> None:\n",
    "        trdname = g.choicebox(\"Pick an item\", \"ITEM PICKER\", choices=list(account.open_trades.keys()))\n",
    "\n",
    "        if trdname not in account.open_trades:\n",
    "            g.msgbox(msg=\"Trade not found. Please try again.\")\n",
    "        else:\n",
    "            choiceValues = g.buttonbox(msg=\"Close or Roll Trade?\", choices=[\"Close\", \"Roll\"])\n",
    "            if choiceValues == \"Roll\":\n",
    "                fieldValues = g.multenterbox(msg=\"Enter updated trade information\", title=\"Trade Editor\",\n",
    "                fields=[\"Roll Price\", \"Expiration Date\", \"Strike (Optional)\"], values=[0,0,\"\"])\n",
    "                if (fieldValues is None):\n",
    "                    pass\n",
    "                else:\n",
    "                    account.roll_trade(trdname, float(fieldValues[0]), str(fieldValues[1]), \n",
    "                    float(fieldValues[2]) if fieldValues[2] != \"\" else fieldValues[2])\n",
    "            elif choiceValues == \"Close\":\n",
    "                fieldValues = g.multenterbox(msg=\"Enter closing trade information\", title=\"Closing Trade\",\n",
    "                fields=[\"Close Price\"], values=[0])\n",
    "                if (fieldValues is None):\n",
    "                    pass\n",
    "                else:\n",
    "                    account.close_trade(trdname, float(fieldValues[0]))"
   ],
   "outputs": [],
   "metadata": {}
  },
  {
   "cell_type": "code",
   "execution_count": null,
   "source": [
    "Prompts.edit_trade(zach_account)"
   ],
   "outputs": [],
   "metadata": {}
  },
  {
   "cell_type": "code",
   "execution_count": null,
   "source": [
    "from yahoo_fin import stock_info as si\n",
    "\n",
    "si.get_futures().loc[0:2], "
   ],
   "outputs": [],
   "metadata": {}
  },
  {
   "cell_type": "code",
   "execution_count": null,
   "source": [
    "data = list(zip(si.get_day_losers(count=5).loc[:,\"Symbol\"], si.get_day_losers(count=5).loc[:, \"% Change\"],\n",
    "si.get_day_gainers(count=5).loc[:,\"Symbol\"], si.get_day_gainers(count=5).loc[:, \"% Change\"]))"
   ],
   "outputs": [],
   "metadata": {}
  },
  {
   "cell_type": "code",
   "execution_count": null,
   "source": [
    "from rich.table import Table\n",
    "from rich import print\n",
    "\n",
    "table = Table(title=f\"Market\")\n",
    "col_name = [\"Ticker\", \"Last\", \"% Change\"]\n",
    "\n",
    "for i in range(len(col_name)):\n",
    "    table.add_column(col_name[i])\n",
    "\n",
    "for i in range(len(data)):\n",
    "    table.add_row(data[i][0], str(data[i][1]), data[i][2], str(data[i][3]))\n",
    "\n",
    "print(table)"
   ],
   "outputs": [],
   "metadata": {}
  },
  {
   "cell_type": "code",
   "execution_count": null,
   "source": [
    "from rich.progress import track\n",
    "\n",
    "load_list = [si.get_futures, si.get_market_status, si.get_day_gainers, si.get_day_losers]\n",
    "\n",
    "data_list = []\n",
    "\n",
    "for i in track(range(len(load_list)),description=\"Loading data\"):\n",
    "    data_list.append(load_list[i]())\n",
    "\n",
    "futs = data_list[0].loc[0:3]\n",
    "status = data_list[1]\n",
    "tg = data_list[2].loc[0:4]\n",
    "tl = data_list[3].loc[0:4]"
   ],
   "outputs": [],
   "metadata": {}
  },
  {
   "cell_type": "code",
   "execution_count": null,
   "source": [
    "status"
   ],
   "outputs": [],
   "metadata": {}
  },
  {
   "cell_type": "code",
   "execution_count": null,
   "source": [
    "round(si.get_live_price(\"VXX\"),2)"
   ],
   "outputs": [],
   "metadata": {}
  },
  {
   "cell_type": "code",
   "execution_count": null,
   "source": [
    "from rich import print\n",
    "\n",
    "change = \"3.5%\"\n",
    "\n",
    "inplant = f\"\"\n",
    "\n",
    "print(\"SPY \" + color(change))"
   ],
   "outputs": [],
   "metadata": {}
  },
  {
   "cell_type": "code",
   "execution_count": null,
   "source": [
    "def color(text):\n",
    "\n",
    "    return f\"[chartreuse2]{text}\" if float(change.removesuffix(\"%\")) > 0 else f\"[deep_pink4]{change}\" "
   ],
   "outputs": [],
   "metadata": {}
  },
  {
   "cell_type": "code",
   "execution_count": 1,
   "source": [
    "import easygui as g"
   ],
   "outputs": [],
   "metadata": {}
  },
  {
   "cell_type": "code",
   "execution_count": 3,
   "source": [
    "import warnings\n",
    "\n",
    "def f():\n",
    "    print(\"before\")\n",
    "    warnings.warn(\"You are warned!\")\n",
    "    print(\"after\")\n",
    "\n",
    "warnings.filterwarnings(\"ignore\")"
   ],
   "outputs": [],
   "metadata": {}
  },
  {
   "cell_type": "code",
   "execution_count": 4,
   "source": [
    "f()"
   ],
   "outputs": [
    {
     "output_type": "stream",
     "name": "stdout",
     "text": [
      "before\n",
      "after\n"
     ]
    }
   ],
   "metadata": {}
  },
  {
   "cell_type": "code",
   "execution_count": 1,
   "source": [
    "import easygui as g"
   ],
   "outputs": [],
   "metadata": {}
  },
  {
   "cell_type": "code",
   "execution_count": 4,
   "source": [
    "g.choicebox(choices=[\"\", \"FUCK\"])"
   ],
   "outputs": [
    {
     "output_type": "execute_result",
     "data": {
      "text/plain": [
       "''"
      ]
     },
     "metadata": {},
     "execution_count": 4
    }
   ],
   "metadata": {}
  },
  {
   "cell_type": "code",
   "execution_count": 7,
   "source": [
    "g.ynbox(msg=\"Account Management\", choices=[\"Change Deposit Amount\", \"Save Account\"])"
   ],
   "outputs": [
    {
     "output_type": "execute_result",
     "data": {
      "text/plain": [
       "True"
      ]
     },
     "metadata": {},
     "execution_count": 7
    }
   ],
   "metadata": {}
  },
  {
   "cell_type": "code",
   "execution_count": null,
   "source": [],
   "outputs": [],
   "metadata": {}
  }
 ],
 "metadata": {
  "orig_nbformat": 4,
  "language_info": {
   "name": "python",
   "version": "3.9.7",
   "mimetype": "text/x-python",
   "codemirror_mode": {
    "name": "ipython",
    "version": 3
   },
   "pygments_lexer": "ipython3",
   "nbconvert_exporter": "python",
   "file_extension": ".py"
  },
  "kernelspec": {
   "name": "python3",
   "display_name": "Python 3.9.7 64-bit ('terminak': conda)"
  },
  "interpreter": {
   "hash": "d19282962f812839135f84991d7b18776f87da86044ca1c35a193a6f3533e779"
  }
 },
 "nbformat": 4,
 "nbformat_minor": 2
}