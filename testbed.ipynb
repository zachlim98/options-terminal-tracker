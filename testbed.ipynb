{
 "cells": [
  {
   "cell_type": "code",
   "execution_count": 1,
   "source": [
    "from bs4 import BeautifulSoup as bs\n",
    "from selenium import webdriver\n",
    "import getpass"
   ],
   "outputs": [],
   "metadata": {}
  },
  {
   "cell_type": "code",
   "execution_count": 2,
   "source": [
    "op = webdriver.FirefoxOptions()\n",
    "op.add_argument('--headless')\n",
    "driver = webdriver.Firefox(executable_path=r\"/home/zachlim/Documents/geckodriver\", options=op)\n",
    "driver.get(\"https://www.barchart.com/options/iv-rank-percentile/etfs?orderBy=optionsImpliedVolatilityPercentile1y&orderDir=desc\")\n",
    "\n",
    "source_page = driver.page_source\n",
    "\n",
    "ticker_name = driver.find_element_by_xpath(\"/html/body/main/div/div[2]/div[2]/div/div[2]/div/div/div/div[6]/div/div[2]/div/div/ng-transclude/table\")"
   ],
   "outputs": [],
   "metadata": {}
  },
  {
   "cell_type": "code",
   "execution_count": 11,
   "source": [
    "class Renderer:\n",
    "    from rich.console import Console\n",
    "    from rich.table import Table\n",
    "\n",
    "    def __init__(self):\n",
    "        self.console = Console()\n",
    "    \n",
    "    def last_color(self, text):\n",
    "        if float(text) < 30:\n",
    "            return f\"[bright_green]{str(text)}[/]\"\n",
    "        elif float(text) > 30 and float(text) < 50:\n",
    "            return f\"[orange1]{str(text)}[/]\"\n",
    "        else:\n",
    "            return f\"[bright_red]{str(text)}[/]\"\n",
    "\n",
    "    def screener_table(self, data, table_type=\"ETF\"):\n",
    "        table = Table(title=f\"Screened {table_type}\")\n",
    "        col_name = [\"Ticker\", \"Last\", \"Volume\", \"IV Rank\", \"IV Perc\"]\n",
    "\n",
    "        for i in range(0,5):\n",
    "            table.add_column(col_name[i])\n",
    "\n",
    "        for i in range(0,11):\n",
    "            table.add_row(data[i][0], self.last_color(data[i][1]),data[i][2],data[i][3],data[i][4])\n",
    "\n",
    "        self.console.print(table)"
   ],
   "outputs": [],
   "metadata": {}
  },
  {
   "cell_type": "code",
   "execution_count": 12,
   "source": [
    "new_printer = Renderer()"
   ],
   "outputs": [],
   "metadata": {}
  },
  {
   "cell_type": "code",
   "execution_count": 13,
   "source": [
    "new_printer.screener_table(data=etf_print)"
   ],
   "outputs": [
    {
     "output_type": "display_data",
     "data": {
      "text/html": [
       "<pre style=\"white-space:pre;overflow-x:auto;line-height:normal;font-family:Menlo,'DejaVu Sans Mono',consolas,'Courier New',monospace\"><span style=\"font-style: italic\">                 Screened ETF                  </span>\n",
       "┏━━━━━━━━┳━━━━━━━┳━━━━━━━━┳━━━━━━━━━┳━━━━━━━━━┓\n",
       "┃<span style=\"font-weight: bold\"> Ticker </span>┃<span style=\"font-weight: bold\"> Last  </span>┃<span style=\"font-weight: bold\"> Volume </span>┃<span style=\"font-weight: bold\"> IV Rank </span>┃<span style=\"font-weight: bold\"> IV Perc </span>┃\n",
       "┡━━━━━━━━╇━━━━━━━╇━━━━━━━━╇━━━━━━━━━╇━━━━━━━━━┩\n",
       "│ KOLD   │ <span style=\"color: #00ff00; text-decoration-color: #00ff00\">7.12</span>  │ 4,237  │ 100.00% │ 100%    │\n",
       "│ BOIL   │ <span style=\"color: #ff0000; text-decoration-color: #ff0000\">82.30</span> │ 2,086  │ 100.00% │ 100%    │\n",
       "│ UNG    │ <span style=\"color: #00ff00; text-decoration-color: #00ff00\">20.16</span> │ 49,724 │ 77.68%  │ 99%     │\n",
       "│ FDD    │ <span style=\"color: #00ff00; text-decoration-color: #00ff00\">13.90</span> │ 236    │ 100.00% │ 99%     │\n",
       "│ DBA    │ <span style=\"color: #00ff00; text-decoration-color: #00ff00\">19.12</span> │ 2,652  │ 68.56%  │ 96%     │\n",
       "│ FXI    │ <span style=\"color: #ffaf00; text-decoration-color: #ffaf00\">38.93</span> │ 34,630 │ 58.58%  │ 95%     │\n",
       "│ JEPI   │ <span style=\"color: #ff0000; text-decoration-color: #ff0000\">59.61</span> │ 149    │ 85.43%  │ 94%     │\n",
       "│ URA    │ <span style=\"color: #00ff00; text-decoration-color: #00ff00\">23.79</span> │ 2,093  │ 52.59%  │ 94%     │\n",
       "│ YINN   │ <span style=\"color: #00ff00; text-decoration-color: #00ff00\">10.25</span> │ 3,101  │ 59.59%  │ 93%     │\n",
       "│ VPN    │ <span style=\"color: #00ff00; text-decoration-color: #00ff00\">16.75</span> │ 165    │ 95.27%  │ 92%     │\n",
       "│ YANG   │ <span style=\"color: #00ff00; text-decoration-color: #00ff00\">19.30</span> │ 1,013  │ 53.91%  │ 92%     │\n",
       "└────────┴───────┴────────┴─────────┴─────────┘\n",
       "</pre>\n"
      ],
      "text/plain": [
       "\u001b[3m                 Screened ETF                  \u001b[0m\n",
       "┏━━━━━━━━┳━━━━━━━┳━━━━━━━━┳━━━━━━━━━┳━━━━━━━━━┓\n",
       "┃\u001b[1m \u001b[0m\u001b[1mTicker\u001b[0m\u001b[1m \u001b[0m┃\u001b[1m \u001b[0m\u001b[1mLast \u001b[0m\u001b[1m \u001b[0m┃\u001b[1m \u001b[0m\u001b[1mVolume\u001b[0m\u001b[1m \u001b[0m┃\u001b[1m \u001b[0m\u001b[1mIV Rank\u001b[0m\u001b[1m \u001b[0m┃\u001b[1m \u001b[0m\u001b[1mIV Perc\u001b[0m\u001b[1m \u001b[0m┃\n",
       "┡━━━━━━━━╇━━━━━━━╇━━━━━━━━╇━━━━━━━━━╇━━━━━━━━━┩\n",
       "│ KOLD   │ \u001b[92m7.12\u001b[0m  │ 4,237  │ 100.00% │ 100%    │\n",
       "│ BOIL   │ \u001b[91m82.30\u001b[0m │ 2,086  │ 100.00% │ 100%    │\n",
       "│ UNG    │ \u001b[92m20.16\u001b[0m │ 49,724 │ 77.68%  │ 99%     │\n",
       "│ FDD    │ \u001b[92m13.90\u001b[0m │ 236    │ 100.00% │ 99%     │\n",
       "│ DBA    │ \u001b[92m19.12\u001b[0m │ 2,652  │ 68.56%  │ 96%     │\n",
       "│ FXI    │ \u001b[38;5;214m38.93\u001b[0m │ 34,630 │ 58.58%  │ 95%     │\n",
       "│ JEPI   │ \u001b[91m59.61\u001b[0m │ 149    │ 85.43%  │ 94%     │\n",
       "│ URA    │ \u001b[92m23.79\u001b[0m │ 2,093  │ 52.59%  │ 94%     │\n",
       "│ YINN   │ \u001b[92m10.25\u001b[0m │ 3,101  │ 59.59%  │ 93%     │\n",
       "│ VPN    │ \u001b[92m16.75\u001b[0m │ 165    │ 95.27%  │ 92%     │\n",
       "│ YANG   │ \u001b[92m19.30\u001b[0m │ 1,013  │ 53.91%  │ 92%     │\n",
       "└────────┴───────┴────────┴─────────┴─────────┘\n"
      ]
     },
     "metadata": {}
    }
   ],
   "metadata": {}
  },
  {
   "cell_type": "code",
   "execution_count": null,
   "source": [],
   "outputs": [],
   "metadata": {}
  }
 ],
 "metadata": {
  "orig_nbformat": 4,
  "language_info": {
   "name": "python",
   "version": "3.9.7",
   "mimetype": "text/x-python",
   "codemirror_mode": {
    "name": "ipython",
    "version": 3
   },
   "pygments_lexer": "ipython3",
   "nbconvert_exporter": "python",
   "file_extension": ".py"
  },
  "kernelspec": {
   "name": "python3",
   "display_name": "Python 3.9.7 64-bit ('terminak': conda)"
  },
  "interpreter": {
   "hash": "d19282962f812839135f84991d7b18776f87da86044ca1c35a193a6f3533e779"
  }
 },
 "nbformat": 4,
 "nbformat_minor": 2
}